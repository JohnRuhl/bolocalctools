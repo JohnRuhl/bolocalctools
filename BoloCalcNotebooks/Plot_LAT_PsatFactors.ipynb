{
 "cells": [
  {
   "cell_type": "code",
   "execution_count": 3,
   "metadata": {},
   "outputs": [],
   "source": [
    "import matplotlib.pyplot as plt\n",
    "import numpy as np\n",
    "import sys\n",
    "import os\n",
    "%matplotlib inline\n",
    "plt.rcParams.update({'font.size': 18})\n",
    "plt.rcParams['figure.figsize'] = [14, 8]\n",
    "BoloCalcPath='./BoloCalc/'"
   ]
  },
  {
   "cell_type": "code",
   "execution_count": 4,
   "metadata": {},
   "outputs": [],
   "source": [
    "exp_dir = BoloCalcPath+'Experiments/CD/Real_Bands/'"
   ]
  },
  {
   "cell_type": "code",
   "execution_count": 5,
   "metadata": {},
   "outputs": [],
   "source": [
    "# Import unpack.py from the BoloCalc/src/ directory\n",
    "BoloCalcPath = 'BoloCalc/'\n",
    "src_path = BoloCalcPath+'src'\n",
    "if src_path not in sys.path:\n",
    "    sys.path.append(src_path)"
   ]
  },
  {
   "cell_type": "code",
   "execution_count": 6,
   "metadata": {},
   "outputs": [],
   "source": [
    "import unpack as up"
   ]
  },
  {
   "cell_type": "code",
   "execution_count": 7,
   "metadata": {},
   "outputs": [],
   "source": [
    "# Instantiate an Unpack object\n",
    "unpack = up.Unpack()"
   ]
  },
  {
   "cell_type": "code",
   "execution_count": 8,
   "metadata": {},
   "outputs": [
    {
     "ename": "ValueError",
     "evalue": "not enough values to unpack (expected 3, got 0)",
     "output_type": "error",
     "traceback": [
      "\u001b[0;31m---------------------------------------------------------------------------\u001b[0m",
      "\u001b[0;31mValueError\u001b[0m                                Traceback (most recent call last)",
      "\u001b[0;32m<ipython-input-8-13a4c2fa9ffa>\u001b[0m in \u001b[0;36m<module>\u001b[0;34m\u001b[0m\n\u001b[1;32m      1\u001b[0m \u001b[0;31m#unpack.unpack_parameter_vary(exp_dir, '20201106_12_45_20')\u001b[0m\u001b[0;34m\u001b[0m\u001b[0;34m\u001b[0m\u001b[0;34m\u001b[0m\u001b[0m\n\u001b[0;32m----> 2\u001b[0;31m \u001b[0munpack\u001b[0m\u001b[0;34m.\u001b[0m\u001b[0munpack_parameter_vary\u001b[0m\u001b[0;34m(\u001b[0m\u001b[0mexp_dir\u001b[0m\u001b[0;34m,\u001b[0m \u001b[0;34m'20201106_15_44_43'\u001b[0m\u001b[0;34m)\u001b[0m\u001b[0;34m\u001b[0m\u001b[0;34m\u001b[0m\u001b[0m\n\u001b[0m",
      "\u001b[0;32m~/code/bolocalc/BoloCalc/src/unpack.py\u001b[0m in \u001b[0;36munpack_parameter_vary\u001b[0;34m(self, inp_dir, var_name)\u001b[0m\n\u001b[1;32m     60\u001b[0m         \u001b[0mself\u001b[0m\u001b[0;34m.\u001b[0m\u001b[0m_inp_vary_name\u001b[0m \u001b[0;34m=\u001b[0m \u001b[0mvar_name\u001b[0m\u001b[0;34m\u001b[0m\u001b[0;34m\u001b[0m\u001b[0m\n\u001b[1;32m     61\u001b[0m         \u001b[0;31m# Gather the relevant files given the input directory\u001b[0m\u001b[0;34m\u001b[0m\u001b[0;34m\u001b[0m\u001b[0;34m\u001b[0m\u001b[0m\n\u001b[0;32m---> 62\u001b[0;31m         \u001b[0mself\u001b[0m\u001b[0;34m.\u001b[0m\u001b[0m_gather_vary_files\u001b[0m\u001b[0;34m(\u001b[0m\u001b[0;34m)\u001b[0m\u001b[0;34m\u001b[0m\u001b[0;34m\u001b[0m\u001b[0m\n\u001b[0m\u001b[1;32m     63\u001b[0m         \u001b[0;31m# Store the inputs and summary outputs\u001b[0m\u001b[0;34m\u001b[0m\u001b[0;34m\u001b[0m\u001b[0;34m\u001b[0m\u001b[0m\n\u001b[1;32m     64\u001b[0m         \u001b[0;32mfor\u001b[0m \u001b[0mi\u001b[0m \u001b[0;32min\u001b[0m \u001b[0mrange\u001b[0m\u001b[0;34m(\u001b[0m\u001b[0mlen\u001b[0m\u001b[0;34m(\u001b[0m\u001b[0mself\u001b[0m\u001b[0;34m.\u001b[0m\u001b[0m_exp_names\u001b[0m\u001b[0;34m)\u001b[0m\u001b[0;34m)\u001b[0m\u001b[0;34m:\u001b[0m\u001b[0;34m\u001b[0m\u001b[0;34m\u001b[0m\u001b[0m\n",
      "\u001b[0;32m~/code/bolocalc/BoloCalc/src/unpack.py\u001b[0m in \u001b[0;36m_gather_vary_files\u001b[0;34m(self)\u001b[0m\n\u001b[1;32m    186\u001b[0m             if f.rstrip(os.sep).split(os.sep)[-1] == self._inp_vary_name in f]\n\u001b[1;32m    187\u001b[0m         \u001b[0;31m# All all of the experiments, telescopes, and cameras\u001b[0m\u001b[0;34m\u001b[0m\u001b[0;34m\u001b[0m\u001b[0;34m\u001b[0m\u001b[0m\n\u001b[0;32m--> 188\u001b[0;31m         self._exp_names, self._tel_names, self._cam_names = (\n\u001b[0m\u001b[1;32m    189\u001b[0m             np.transpose([d.split(os.sep)[-6:-3] for d in var_dirs]))\n\u001b[1;32m    190\u001b[0m         \u001b[0;31m# All of the summary files and histogram directories\u001b[0m\u001b[0;34m\u001b[0m\u001b[0;34m\u001b[0m\u001b[0;34m\u001b[0m\u001b[0m\n",
      "\u001b[0;31mValueError\u001b[0m: not enough values to unpack (expected 3, got 0)"
     ]
    }
   ],
   "source": [
    "#unpack.unpack_parameter_vary(exp_dir, '20201106_12_45_20')\n",
    "unpack.unpack_parameter_vary(exp_dir, '20201106_15_44_43')"
   ]
  },
  {
   "cell_type": "markdown",
   "metadata": {},
   "source": [
    "The next command shows that all the input Psat vectors are in any one of the camera files.  ie, MF and UHF input psat vectors are in the LF dictionary."
   ]
  },
  {
   "cell_type": "code",
   "execution_count": null,
   "metadata": {},
   "outputs": [],
   "source": [
    "unpack.vary_inputs['Real_Bands']['LAT']['LF'].keys()"
   ]
  },
  {
   "cell_type": "code",
   "execution_count": null,
   "metadata": {},
   "outputs": [],
   "source": [
    "plotvals = {'LF':{'1':{},'2':{}},'MF':{'1':{},'2':{}},'UHF':{'1':{},'2':{}}}"
   ]
  },
  {
   "cell_type": "markdown",
   "metadata": {},
   "source": [
    "The next command shows that all the "
   ]
  },
  {
   "cell_type": "code",
   "execution_count": null,
   "metadata": {},
   "outputs": [],
   "source": [
    "unpack.vary_outputs['Real_Bands']['LAT']['LF'].keys()"
   ]
  },
  {
   "cell_type": "code",
   "execution_count": null,
   "metadata": {},
   "outputs": [],
   "source": [
    "unpack.vary_outputs['Real_Bands']['LAT']['LF']['Summary']['LF_1'].keys()"
   ]
  },
  {
   "cell_type": "code",
   "execution_count": null,
   "metadata": {},
   "outputs": [],
   "source": [
    "plotvals['LF']['1']['Det_NET_CMB'] = unpack.vary_outputs['Real_Bands']['LAT']['LF']['Summary']['LF_1']['Detector NET_CMB'][:,0]\n",
    "plotvals['LF']['1']['Det_NEP'] = unpack.vary_outputs['Real_Bands']['LAT']['LF']['Summary']['LF_1']['Detector NEP'][:,0]\n",
    "plotvals['LF']['1']['Popt'] = unpack.vary_outputs['Real_Bands']['LAT']['LF']['Summary']['LF_1']['Optical Power'][0,0]\n",
    "\n",
    "plotvals['LF']['2']['Det_NET_CMB'] = unpack.vary_outputs['Real_Bands']['LAT']['LF']['Summary']['LF_2']['Detector NET_CMB'][:,0]\n",
    "plotvals['LF']['2']['Det_NEP'] = unpack.vary_outputs['Real_Bands']['LAT']['LF']['Summary']['LF_2']['Detector NEP'][:,0]\n",
    "plotvals['LF']['2']['Popt'] = unpack.vary_outputs['Real_Bands']['LAT']['LF']['Summary']['LF_2']['Optical Power'][0,0]\n",
    "\n",
    "plotvals['MF']['1']['Det_NET_CMB'] = unpack.vary_outputs['Real_Bands']['LAT']['LF']['Summary']['MF_1']['Detector NET_CMB'][:,0]\n",
    "plotvals['MF']['1']['Det_NEP'] = unpack.vary_outputs['Real_Bands']['LAT']['LF']['Summary']['MF_1']['Detector NEP'][:,0]\n",
    "plotvals['MF']['1']['Popt'] = unpack.vary_outputs['Real_Bands']['LAT']['LF']['Summary']['MF_1']['Optical Power'][0,0]\n",
    "\n",
    "plotvals['MF']['2']['Det_NET_CMB'] = unpack.vary_outputs['Real_Bands']['LAT']['LF']['Summary']['MF_2']['Detector NET_CMB'][:,0]\n",
    "plotvals['MF']['2']['Det_NEP'] = unpack.vary_outputs['Real_Bands']['LAT']['LF']['Summary']['MF_2']['Detector NEP'][:,0]\n",
    "plotvals['MF']['2']['Popt'] = unpack.vary_outputs['Real_Bands']['LAT']['LF']['Summary']['MF_2']['Optical Power'][0,0]\n",
    "\n",
    "plotvals['UHF']['1']['Det_NET_CMB'] = unpack.vary_outputs['Real_Bands']['LAT']['LF']['Summary']['UHF_1']['Detector NET_CMB'][:,0]\n",
    "plotvals['UHF']['1']['Det_NEP'] = unpack.vary_outputs['Real_Bands']['LAT']['LF']['Summary']['UHF_1']['Detector NEP'][:,0]\n",
    "plotvals['UHF']['1']['Popt'] = unpack.vary_outputs['Real_Bands']['LAT']['LF']['Summary']['UHF_1']['Optical Power'][0,0]\n",
    "\n",
    "plotvals['UHF']['2']['Det_NET_CMB'] = unpack.vary_outputs['Real_Bands']['LAT']['LF']['Summary']['UHF_2']['Detector NET_CMB'][:,0]\n",
    "plotvals['UHF']['2']['Det_NEP'] = unpack.vary_outputs['Real_Bands']['LAT']['LF']['Summary']['UHF_2']['Detector NEP'][:,0]\n",
    "plotvals['UHF']['2']['Popt'] = unpack.vary_outputs['Real_Bands']['LAT']['LF']['Summary']['UHF_2']['Optical Power'][0,0]"
   ]
  },
  {
   "cell_type": "code",
   "execution_count": null,
   "metadata": {},
   "outputs": [],
   "source": [
    "for cam in ['LF','MF','UHF']:\n",
    "    for chan in ['1','2']:\n",
    "        objstring = cam+'_'+chan+'_Psat Factor'\n",
    "        plotvals[cam][chan]['Psat'] = unpack.vary_inputs['Real_Bands']['LAT'][cam][objstring]*plotvals[cam][chan]['Popt']\n",
    "plotvals['LF']['1']['Det_NET_CMB'].size\n"
   ]
  },
  {
   "cell_type": "code",
   "execution_count": null,
   "metadata": {},
   "outputs": [],
   "source": [
    "fignum = 1\n",
    "subplotnum = 1\n",
    "xmax = [1.5, 6, 6, 15,60, 60]\n",
    "ymax = [500,500,500, 500, 1000, 2000]\n",
    "plt.figure(fignum)\n",
    "plt.clf()\n",
    "for cam in ['LF','MF','UHF']:\n",
    "    for chan in ['1','2']:\n",
    "        plt.subplot(3,2,subplotnum)\n",
    "        labeltext = cam + chan\n",
    "        plt.plot(plotvals[cam][chan]['Psat'],plotvals[cam][chan]['Det_NET_CMB'],'.-b',label=labeltext)\n",
    "        xval = 1*plotvals[cam][chan]['Popt']\n",
    "        plt.plot([xval,xval],[0,ymax[subplotnum-1]])\n",
    "        plt.plot([3*xval,3*xval],[0,ymax[subplotnum-1]])\n",
    "        #plt.xlim(0,xmax[subplotnum-1])\n",
    "        #plt.ylim(0,ymax[subplotnum-1])\n",
    "        plt.legend()\n",
    "        plt.grid()\n",
    "        print(labeltext)\n",
    "        subplotnum += 1\n",
    "        \n",
    "        # Fit Psat vs NET to a line, store fit parameters. Slopes tell us sensitivity.\n",
    "        m,b = np.polyfit(plotvals[cam][chan]['Psat'],plotvals[cam][chan]['Det_NET_CMB'],1)\n",
    "        plotvals[cam][chan]['m']= m\n",
    "        plotvals[cam][chan]['b']= b\n",
    "        y = b + m*plotvals[cam][chan]['Psat']\n",
    "        plt.plot(plotvals[cam][chan]['Psat'],y)\n",
    "plt.suptitle('Psat [pW] vs Det NET_CMB [uKrtsec], for CHLAT')\n",
    "plt.xlabel('Psat [pW]')\n",
    "plt.ylabel('Detector NET_CMB [uKrtsec]')\n",
    "plt.show()\n",
    "\n"
   ]
  },
  {
   "cell_type": "code",
   "execution_count": null,
   "metadata": {},
   "outputs": [],
   "source": [
    "plt.figure(3)\n",
    "alpha = 30\n",
    "Tc = 0.16\n",
    "Tbase = 0.1\n",
    "n = 2.7\n",
    "Rbolo = 0.01 # ohms\n",
    "for cam in ['LF','MF','UHF']:\n",
    "    for chan in ['1','2']:\n",
    "        #plt.subplot(3,2,subplotnum)\n",
    "        labeltext = cam + chan\n",
    "        Psat = plotvals[cam][chan]['Psat']\n",
    "        Popt = plotvals[cam][chan]['Popt']\n",
    "        Pelec = Psat - Popt\n",
    "        Vbolo = np.sqrt(Rbolo*Pelec/1e12)\n",
    "        S_I = 1/Vbolo # Watts/amp\n",
    "        Gdyn = Psat*(n+1)*(Tc**n)/(Tc**n - Tbase**n)\n",
    "        L = Pelec*alpha/(Gdyn*Tc)\n",
    "        plt.plot(plotvals[cam][chan]['Psat'],L,'.-b',label=labeltext)\n",
    "        xval = 1*plotvals[cam][chan]['Popt']"
   ]
  },
  {
   "cell_type": "code",
   "execution_count": null,
   "metadata": {},
   "outputs": [],
   "source": [
    "fignum = 1\n",
    "subplotnum = 1\n",
    "k=1.38e-23\n",
    "xmax = [1.5, 6, 6, 15,60, 60]\n",
    "ymax = [500,500,500, 500, 1000, 2000]\n",
    "plt.figure(fignum)\n",
    "plt.clf()\n",
    "for cam in ['LF','MF','UHF']:\n",
    "    for chan in ['1','2']:\n",
    "        plt.subplot(3,2,subplotnum)\n",
    "        labeltext = cam + chan\n",
    "        NEP_most = plotvals[cam][chan]['Det_NEP']\n",
    "        plt.plot(plotvals[cam][chan]['Psat'],NEP_most,'.-b',label=labeltext+' Phot+Phon')\n",
    "        Vbolo = np.sqrt(Rbolo*Pelec/1e12)\n",
    "        S_I = 1/Vbolo # Watts/amp\n",
    "        NEP_johnson = 1e18*np.sqrt(4*k*Tc/Rbolo/L)/S_I\n",
    "        plt.plot(plotvals[cam][chan]['Psat'],NEP_johnson, label=\"Johnson\")\n",
    "        plt.plot(plotvals[cam][chan]['Psat'],np.sqrt(NEP_most**2 + NEP_johnson**2),label=\"total\")\n",
    "        xval = 1*plotvals[cam][chan]['Popt']\n",
    "        #plt.plot([xval,xval],[0,ymax[subplotnum-1]])\n",
    "        #plt.plot([3*xval,3*xval],[0,ymax[subplotnum-1]])\n",
    "        #plt.xlim(0,xmax[subplotnum-1])\n",
    "        #plt.ylim(0,ymax[subplotnum-1])\n",
    "        plt.legend()\n",
    "        plt.grid()\n",
    "        print(labeltext)\n",
    "        subplotnum += 1\n",
    "        \n",
    "        \n",
    "plt.suptitle('Psat [pW] vs Det NEP, for CHLAT')\n",
    "plt.xlabel('Psat [pW]')\n",
    "plt.ylabel('Detector NEP')\n",
    "plt.show()\n"
   ]
  },
  {
   "cell_type": "code",
   "execution_count": null,
   "metadata": {},
   "outputs": [],
   "source": [
    "fignum = 2\n",
    "subplotnum = 1\n",
    "xmax = [1.5, 6, 6, 15,60, 60]\n",
    "plt.figure(fignum)\n",
    "plt.clf()\n",
    "\n",
    "for cam in ['LF','MF','UHF']:\n",
    "    for chan in ['1','2']:\n",
    "        plt.subplot(3,2,subplotnum)\n",
    "        labeltext = cam + chan\n",
    "        yy = plotvals[cam][chan]['Det_NET_CMB']/plotvals[cam][chan]['Det_NET_CMB'][0]\n",
    "        plt.plot(plotvals[cam][chan]['Psat'],yy,'.-b',label=labeltext)\n",
    "        xval = 1*plotvals[cam][chan]['Popt']\n",
    "        plt.plot([xval,xval],[0.95,1.2])\n",
    "        plt.plot([3*xval,3*xval],[0.95,1.2])\n",
    "        #plt.xlim(0,xmax[subplotnum-1])\n",
    "        #plt.ylim(0,ymax[subplotnum-1])\n",
    "        plt.legend()\n",
    "        plt.grid()\n",
    "        print(labeltext)\n",
    "        subplotnum += 1\n",
    "        \n",
    "        # Fit Psat vs NET to a line, store fit parameters. Slopes tell us sensitivity.\n",
    "        m,b = np.polyfit(plotvals[cam][chan]['Psat'],yy,1)\n",
    "        plotvals[cam][chan]['ratio_m']= m\n",
    "        plotvals[cam][chan]['ratio_b']= b\n",
    "        y = b + m*plotvals[cam][chan]['Psat']\n",
    "        plt.plot(plotvals[cam][chan]['Psat'],y)\n",
    "        \n",
    "        m_string = \"slope = {:.2e} /pW\".format(m)\n",
    "        plt.text(plotvals[cam][chan]['Psat'][0],1.15,m_string)\n",
    "        \n",
    "\n",
    "plt.suptitle('Psat [pW] vs Det NET_CMB ratio, for CHLAT')\n",
    "plt.show()"
   ]
  },
  {
   "cell_type": "code",
   "execution_count": null,
   "metadata": {},
   "outputs": [],
   "source": [
    "for cam in ['LF','MF','UHF']:\n",
    "    for chan in ['1','2']:\n",
    "        print(plotvals[cam][chan]['Popt'])"
   ]
  },
  {
   "cell_type": "code",
   "execution_count": null,
   "metadata": {},
   "outputs": [],
   "source": [
    "for cam in ['LF','MF','UHF']:\n",
    "    for chan in ['1','2']:\n",
    "        print(plotvals[cam][chan]['ratio_m'])"
   ]
  },
  {
   "cell_type": "code",
   "execution_count": null,
   "metadata": {},
   "outputs": [],
   "source": [
    "unpack.vary_outputs['Real_Bands']['LAT']['LF']['All']['LF_1'].keys()"
   ]
  },
  {
   "cell_type": "code",
   "execution_count": null,
   "metadata": {},
   "outputs": [],
   "source": [
    "np.sqrt(4*k*0.1/0.01/10)/S_I"
   ]
  },
  {
   "cell_type": "code",
   "execution_count": null,
   "metadata": {},
   "outputs": [],
   "source": [
    "S_I"
   ]
  },
  {
   "cell_type": "code",
   "execution_count": null,
   "metadata": {},
   "outputs": [],
   "source": [
    "1/Vbolo"
   ]
  },
  {
   "cell_type": "code",
   "execution_count": null,
   "metadata": {},
   "outputs": [],
   "source": []
  }
 ],
 "metadata": {
  "kernelspec": {
   "display_name": "Python 3",
   "language": "python",
   "name": "python3"
  },
  "language_info": {
   "codemirror_mode": {
    "name": "ipython",
    "version": 3
   },
   "file_extension": ".py",
   "mimetype": "text/x-python",
   "name": "python",
   "nbconvert_exporter": "python",
   "pygments_lexer": "ipython3",
   "version": "3.8.3"
  }
 },
 "nbformat": 4,
 "nbformat_minor": 4
}
