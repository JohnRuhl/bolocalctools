{
 "cells": [
  {
   "cell_type": "code",
   "execution_count": 3,
   "metadata": {},
   "outputs": [
    {
     "data": {
      "text/plain": [
       "<matplotlib.legend.Legend at 0x7ff0bbc66c40>"
      ]
     },
     "execution_count": 3,
     "metadata": {},
     "output_type": "execute_result"
    }
   ],
   "source": [
    "import matplotlib.pyplot as plt\n",
    "\n",
    " \n",
    "\n",
    "fig, ax1 = plt.subplots()\n",
    "ax2 = ax1.twinx()\n",
    "ax1.plot([1, 2, 3], [1, 2, 3], '-.',color='blue')\n",
    "ax2.plot(0,0, '-.', color='blue', label='ax1 ') # **\n",
    "ax2.plot([2,3,4], [0.3, 0.2, 0.1], 'r', label='ax2')\n",
    "plt.xlim(1,5)\n",
    "ax1.set_ylim(1, 4)\n",
    "ax2.set_ylim(0.2, 0.5)\n",
    "ax1.set_xlabel('X label')\n",
    "ax1.set_ylabel('Label 1')\n",
    "ax2.set_ylabel('Label 2')\n",
    "ax2.legend()\n",
    "               "
   ]
  },
  {
   "cell_type": "code",
   "execution_count": null,
   "metadata": {},
   "outputs": [],
   "source": []
  }
 ],
 "metadata": {
  "kernelspec": {
   "display_name": "Python 3",
   "language": "python",
   "name": "python3"
  },
  "language_info": {
   "codemirror_mode": {
    "name": "ipython",
    "version": 3
   },
   "file_extension": ".py",
   "mimetype": "text/x-python",
   "name": "python",
   "nbconvert_exporter": "python",
   "pygments_lexer": "ipython3",
   "version": "3.8.3"
  }
 },
 "nbformat": 4,
 "nbformat_minor": 4
}
