{
 "cells": [
  {
   "cell_type": "markdown",
   "metadata": {},
   "source": [
    "# Print Output Table From Bolocalc\n",
    "\n",
    "This notebook, once pointed to an experiment directory, prints out a variety of relevant parameters (optical loading, NEPs, NETs) for each channel.  The current purpose of this is to compare with the outputs of Barkats' code, so the tables are formatted with that in mind."
   ]
  },
  {
   "cell_type": "code",
   "execution_count": 30,
   "metadata": {},
   "outputs": [],
   "source": [
    "import matplotlib.pyplot as plt\n",
    "import numpy as np\n",
    "import sys\n",
    "import os\n",
    "%matplotlib inline\n",
    "plt.rcParams.update({'font.size': 18})\n",
    "plt.rcParams['figure.figsize'] = [14, 8]"
   ]
  },
  {
   "cell_type": "code",
   "execution_count": 31,
   "metadata": {},
   "outputs": [],
   "source": [
    "# Import unpack.py from the BoloCalc/src/ directory\n",
    "BoloCalcPath = 'BoloCalc/'\n",
    "src_path = BoloCalcPath+'src'\n",
    "if src_path not in sys.path:\n",
    "    sys.path.append(src_path)\n",
    "\n",
    "import unpack as up\n",
    "# Instantiate an Unpack object\n",
    "unpack = up.Unpack()    "
   ]
  },
  {
   "cell_type": "code",
   "execution_count": 32,
   "metadata": {},
   "outputs": [],
   "source": [
    "exp_dir = BoloCalcPath+'Experiments/JR3/Tophat_bands'"
   ]
  },
  {
   "cell_type": "code",
   "execution_count": 33,
   "metadata": {},
   "outputs": [],
   "source": [
    "unpack.unpack_sensitivities(exp_dir)"
   ]
  },
  {
   "cell_type": "markdown",
   "metadata": {},
   "source": [
    "The next command shows that all the input Psat vectors are in any one of the camera files.  ie, MF and UHF input psat vectors are in the LF dictionary."
   ]
  },
  {
   "cell_type": "code",
   "execution_count": 34,
   "metadata": {},
   "outputs": [
    {
     "data": {
      "text/plain": [
       "{'Num Det': [1.0, 0, 0],\n",
       " 'Optical Throughput': [0.302, 0.0, 0.0],\n",
       " 'Optical Power': [0.54, 0.0, 0.0],\n",
       " 'Telescope Temp': [9.78, 0.0, 0.0],\n",
       " 'Sky Temp': [8.2, 0.0, 0.0],\n",
       " 'Photon NEP': [10.13, 0.0, 0.0],\n",
       " 'Bolometer NEP': [9.23, 0.0, 0.0],\n",
       " 'Readout NEP': [0.0, 0.0, 0.0],\n",
       " 'Detector NEP': [13.7, 0.0, 0.0],\n",
       " 'Detector NET_CMB': [330.3, 0.0, 0.0],\n",
       " 'Detector NET_RJ': [322.6, 0.0, 0.0],\n",
       " 'Array NET_CMB': [369.24, 0.0, 0.0],\n",
       " 'Array NET_RJ': [360.69, 0.0, 0.0],\n",
       " 'Correlation Factor': [1.0, 0.0, 0.0],\n",
       " 'CMB Map Depth': [231.23, 0.0, 0.0],\n",
       " 'RJ Map Depth': [225.88, 0.0, 0.0]}"
      ]
     },
     "execution_count": 34,
     "metadata": {},
     "output_type": "execute_result"
    }
   ],
   "source": [
    "unpack.sens_outputs['Tophat_bands']['SAT']['LF']['Summary']['LF_1']"
   ]
  },
  {
   "cell_type": "markdown",
   "metadata": {},
   "source": [
    "We want to print, in this order\n",
    "\n",
    "- Total optical power\n",
    "- NEP_photon\n",
    "- NEP_phonon, NEP_phonon modified for barkats Flink\n",
    "- End to End optical efficiency\n",
    "- NET_CMB, NET_CMB modified for Barkats Flink"
   ]
  },
  {
   "cell_type": "code",
   "execution_count": 42,
   "metadata": {},
   "outputs": [
    {
     "name": "stdout",
     "output_type": "stream",
     "text": [
      "Center freqs = 30,40,95,150,220,280 GHz\n",
      "Fractional bandwidth = 0.24\n",
      "beta = 2, n = 3\n",
      "Run bolocalc manually with Barkats Flink = 0.667\n",
      " LF_1\n",
      "   P_optical = 0.540 pW\n",
      "   NEP_photon = 10.130 aWrtHz\n",
      "   NEP_phonon = 9.230 aWrtHz\n",
      "   NEP_total = 13.704 aWrtHz\n",
      "   Optical efficiency = 0.302\n",
      "   NET_CMB = 330.3 uKrtsec\n",
      "   dPdTcmb = 0.0293 pW/uK \n",
      " LF_2\n",
      "   P_optical = 0.950 pW\n",
      "   NEP_photon = 15.560 aWrtHz\n",
      "   NEP_phonon = 12.250 aWrtHz\n",
      "   NEP_total = 19.803 aWrtHz\n",
      "   Optical efficiency = 0.294\n",
      "   NET_CMB = 375.0 uKrtsec\n",
      "   dPdTcmb = 0.0373 pW/uK \n",
      "\n",
      " MF_1\n",
      "   P_optical = 2.010 pW\n",
      "   NEP_photon = 24.700 aWrtHz\n",
      "   NEP_phonon = 17.830 aWrtHz\n",
      "   NEP_total = 30.463 aWrtHz\n",
      "   Optical efficiency = 0.294\n",
      "   NET_CMB = 292.1 uKrtsec\n",
      "   dPdTcmb = 0.0737 pW/uK \n",
      " MF_2\n",
      "   P_optical = 2.640 pW\n",
      "   NEP_photon = 30.180 aWrtHz\n",
      "   NEP_phonon = 20.400 aWrtHz\n",
      "   NEP_total = 36.428 aWrtHz\n",
      "   Optical efficiency = 0.299\n",
      "   NET_CMB = 301.0 uKrtsec\n",
      "   dPdTcmb = 0.0856 pW/uK \n",
      "\n",
      " UHF_1\n",
      "   P_optical = 4.650 pW\n",
      "   NEP_photon = 46.740 aWrtHz\n",
      "   NEP_phonon = 27.090 aWrtHz\n",
      "   NEP_total = 54.023 aWrtHz\n",
      "   Optical efficiency = 0.292\n",
      "   NET_CMB = 549.2 uKrtsec\n",
      "   dPdTcmb = 0.0696 pW/uK \n",
      " UHF_2\n",
      "   P_optical = 7.330 pW\n",
      "   NEP_photon = 66.100 aWrtHz\n",
      "   NEP_phonon = 34.020 aWrtHz\n",
      "   NEP_total = 74.341 aWrtHz\n",
      "   Optical efficiency = 0.284\n",
      "   NET_CMB = 1098.0 uKrtsec\n",
      "   dPdTcmb = 0.0479 pW/uK \n",
      "\n"
     ]
    }
   ],
   "source": [
    "#F_barkats_factor = 1.187 # multiply phonon NEP by this to get Barkat's value, for 0.25 and 0.5K ends, n=3\n",
    "tubes = ['LF','MF','UHF']\n",
    "chs = ['_1','_2']\n",
    "print('Center freqs = 30,40,95,150,220,280 GHz')\n",
    "print('Fractional bandwidth = 0.24')\n",
    "print('beta = 2, n = 3')\n",
    "print('Run bolocalc manually with Barkats Flink = 0.667')\n",
    "for tube in tubes:\n",
    "    #print(tube)\n",
    "    for ch in chs:\n",
    "        chname = tube+ch\n",
    "        print(' '+chname)\n",
    "        data = unpack.sens_outputs['Tophat_bands']['SAT'][tube]['Summary'][chname]\n",
    "        \n",
    "        NEP_photon = data['Photon NEP'][0]\n",
    "        NEP_phonon = data['Bolometer NEP'][0]\n",
    "        NEP_total = np.sqrt(NEP_photon**2+NEP_phonon**2)\n",
    "        NET_CMB = data['Detector NET_CMB'][0]\n",
    "        dPdTcmb = NEP_total/(NET_CMB*np.sqrt(2))\n",
    "        #\n",
    "        \n",
    "        print('   P_optical = {0:3.3f} pW'.format(data['Optical Power'][0] ))\n",
    "        print('   NEP_photon = {0:3.3f} aWrtHz'.format(NEP_photon))\n",
    "        print('   NEP_phonon = {0:3.3f} aWrtHz'.format(NEP_phonon))\n",
    "        print('   NEP_total = {0:3.3f} aWrtHz'.format(NEP_total))\n",
    "        print('   Optical efficiency = {0:3.3f}'.format(data['Optical Throughput'][0]))\n",
    "        print('   NET_CMB = {0:3.1f} uKrtsec'.format(NET_CMB))\n",
    "        print('   dPdTcmb = {0:4.4f} pW/uK '.format(dPdTcmb))\n",
    "    print('')"
   ]
  },
  {
   "cell_type": "markdown",
   "metadata": {},
   "source": [
    "# Barkat's calculator results, for comparison\n",
    "Run Barkat's web calculator with the same elements leading to the same overall optical efficiency.  Tune the window temperature to make the P_opticals the same.  This will make the photon noise, the G, the phonon noise, and responsivity all the same (or about the same).  Then, compare the NETs.\n",
    "\n",
    "(Runs by JR, on 12/8/2020, at http://bicep.rc.fas.harvard.edu/dbarkats/postings/NET_calculator/index.html\n",
    "with custom settings.)"
   ]
  },
  {
   "cell_type": "code",
   "execution_count": 50,
   "metadata": {},
   "outputs": [],
   "source": [
    "barkats_values = {}\n",
    "\n",
    "barkats_values['LF_1']={}\n",
    "barkats_values['LF_1']['T_window']= 297.\n",
    "barkats_values['LF_1']['NET_cmb']= 327.4\n",
    "barkats_values['LF_1']['dPdT_cmb']= 0.0297 #pW/K\n",
    "barkats_values['LF_1']['P_opt']= 0.540     #pW\n",
    "#\n",
    "barkats_values['LF_2']={}\n",
    "barkats_values['LF_2']['T_window']= 264.\n",
    "barkats_values['LF_2']['NET_cmb']= 375.11\n",
    "barkats_values['LF_2']['dPdT_cmb']= 0.0377 #pW/K\n",
    "barkats_values['LF_2']['P_opt']= 0.950     #pW\n",
    "#\n",
    "barkats_values['MF_1']={}\n",
    "barkats_values['MF_1']['T_window']= 256.8\n",
    "barkats_values['MF_1']['NET_cmb']= 295.39\n",
    "barkats_values['MF_1']['dPdT_cmb']=  0.0740 #pW/K\n",
    "barkats_values['MF_1']['P_opt']= 2.010     #pW\n",
    "#\n",
    "barkats_values['MF_2']={}\n",
    "barkats_values['MF_2']['T_window']= 256.5\n",
    "barkats_values['MF_2']['NET_cmb']= 306.96\n",
    "barkats_values['MF_2']['dPdT_cmb']=   0.0854 #pW/K\n",
    "barkats_values['MF_2']['P_opt']= 2.640     #pW\n",
    "#\n",
    "barkats_values['UHF_1']={}\n",
    "barkats_values['UHF_1']['T_window']= 206.3\n",
    "barkats_values['UHF_1']['NET_cmb']= 559.14\n",
    "barkats_values['UHF_1']['dPdT_cmb']= 0.0694   #pW/K\n",
    "barkats_values['UHF_1']['P_opt']= 4.650     #pW\n",
    "#\n",
    "barkats_values['UHF_2']={}\n",
    "barkats_values['UHF_2']['T_window']= 180 \n",
    "barkats_values['UHF_2']['NET_cmb']= 1116.85\n",
    "barkats_values['UHF_2']['dPdT_cmb']= 0.0477   #pW/K\n",
    "barkats_values['UHF_2']['P_opt']=  7.330    #pW\n",
    "#\n",
    "\n"
   ]
  },
  {
   "cell_type": "code",
   "execution_count": 70,
   "metadata": {},
   "outputs": [
    {
     "name": "stdout",
     "output_type": "stream",
     "text": [
      "Center freqs = 30,40,95,150,220,280 GHz\n",
      "Fractional bandwidth = 0.24\n",
      "beta = 2, n = 3\n",
      "Run bolocalc manually with Barkats Flink = 0.667\n",
      "Set Barkats T_window to give same P_optical as Bolocalc.\n",
      "Other parameters all the same.\n",
      " LF_1                   Bolocalc            Barkats\n",
      "   P_optical (pW)    :   0.540               0.540\n",
      "   NET_CMB (uKrtsec) :   330.3             327.4       , ratio = 1.009\n",
      "   dPdTcmb (pW/uK)   :   0.0293              0.0297\n",
      " LF_2                   Bolocalc            Barkats\n",
      "   P_optical (pW)    :   0.950               0.950\n",
      "   NET_CMB (uKrtsec) :   375.0             375.1       , ratio = 1.000\n",
      "   dPdTcmb (pW/uK)   :   0.0373              0.0377\n",
      "\n",
      " MF_1                   Bolocalc            Barkats\n",
      "   P_optical (pW)    :   2.010               2.010\n",
      "   NET_CMB (uKrtsec) :   292.1             295.4       , ratio = 0.989\n",
      "   dPdTcmb (pW/uK)   :   0.0737              0.0740\n",
      " MF_2                   Bolocalc            Barkats\n",
      "   P_optical (pW)    :   2.640               2.640\n",
      "   NET_CMB (uKrtsec) :   301.0             307.0       , ratio = 0.981\n",
      "   dPdTcmb (pW/uK)   :   0.0856              0.0854\n",
      "\n",
      " UHF_1                   Bolocalc            Barkats\n",
      "   P_optical (pW)    :   4.650               4.650\n",
      "   NET_CMB (uKrtsec) :   549.2             559.1       , ratio = 0.982\n",
      "   dPdTcmb (pW/uK)   :   0.0696              0.0694\n",
      " UHF_2                   Bolocalc            Barkats\n",
      "   P_optical (pW)    :   7.330               7.330\n",
      "   NET_CMB (uKrtsec) :   1098.0             1116.8       , ratio = 0.983\n",
      "   dPdTcmb (pW/uK)   :   0.0479              0.0477\n",
      "\n"
     ]
    }
   ],
   "source": [
    "tubes = ['LF','MF','UHF']\n",
    "chs = ['_1','_2']\n",
    "print('Center freqs = 30,40,95,150,220,280 GHz')\n",
    "print('Fractional bandwidth = 0.24')\n",
    "print('beta = 2, n = 3')\n",
    "print('Run bolocalc manually with Barkats Flink = 0.667')\n",
    "print('Set Barkats T_window to give same P_optical as Bolocalc.')\n",
    "print('Other parameters all the same.')\n",
    "for tube in tubes:\n",
    "    #print(tube)\n",
    "    for ch in chs:\n",
    "        chname = tube+ch\n",
    "        print(' '+chname+'                   Bolocalc            Barkats')\n",
    "        data = unpack.sens_outputs['Tophat_bands']['SAT'][tube]['Summary'][chname]\n",
    "        NEP_photon = data['Photon NEP'][0]\n",
    "        NEP_phonon = data['Bolometer NEP'][0]\n",
    "        NEP_total = np.sqrt(NEP_photon**2+NEP_phonon**2)\n",
    "        NET_CMB = data['Detector NET_CMB'][0]\n",
    "        dPdTcmb = NEP_total/(NET_CMB*np.sqrt(2))\n",
    "        #\n",
    "        print('   P_optical (pW)    :   {0:3.3f}               {1:3.3f}'\n",
    "              .format(data['Optical Power'][0],barkats_values[chname]['P_opt'] ))\n",
    "        print('   NET_CMB (uKrtsec) :   {0:3.1f}             {1:3.1f}       , ratio = {2:2.3f}'\n",
    "              .format(NET_CMB, barkats_values[chname]['NET_cmb'], NET_CMB/barkats_values[chname]['NET_cmb']))\n",
    "        print('   dPdTcmb (pW/uK)   :   {0:4.4f}              {1:4.4f}'\n",
    "              .format(dPdTcmb, barkats_values[chname]['dPdT_cmb']))\n",
    "    print('')"
   ]
  },
  {
   "cell_type": "code",
   "execution_count": 36,
   "metadata": {},
   "outputs": [],
   "source": [
    "unpack.unpack_optical_powers(exp_dir)"
   ]
  },
  {
   "cell_type": "code",
   "execution_count": 37,
   "metadata": {},
   "outputs": [
    {
     "data": {
      "text/plain": [
       "dict_keys(['CMB', 'ATM', 'Window', 'IR_blocker1', 'IR_blocker2', 'IR_blocker3', 'Ap_stp', 'Lenses', 'Detector'])"
      ]
     },
     "execution_count": 37,
     "metadata": {},
     "output_type": "execute_result"
    }
   ],
   "source": [
    "unpack.pwr_outputs['Tophat_bands']['SAT']['LF']['Summary']['LF_1'].keys()"
   ]
  },
  {
   "cell_type": "code",
   "execution_count": 38,
   "metadata": {
    "scrolled": true
   },
   "outputs": [
    {
     "name": "stdout",
     "output_type": "stream",
     "text": [
      "LF_1\n",
      "  CMB\t \t 0.062\n",
      "  ATM\t \t 0.184\n",
      "  Window \t 0.174\n",
      "  IR_blocker1 \t 0.047\n",
      "  IR_blocker2 \t 0.022\n",
      "  IR_blocker3 \t 0.019\n",
      "  Ap_stp \t 0.023\n",
      "  Lenses \t 0.009\n",
      "  Detector \t 0.000\n",
      "\n",
      "  Total = \t 0.540\n"
     ]
    }
   ],
   "source": [
    "tube = 'LF'\n",
    "ch = tube+'_1'\n",
    "print(ch)\n",
    "P_tot = 0\n",
    "for element in unpack.pwr_outputs['Tophat_bands']['SAT'][tube]['Summary'][ch].keys():\n",
    "    value = unpack.pwr_outputs['Tophat_bands']['SAT'][tube]['Summary'][ch][element]['Power to Detector'][0]\n",
    "    P_tot = P_tot + value\n",
    "    name = element\n",
    "    if (len(name)<6):\n",
    "        name = element + \"\\t\"\n",
    "    print('  '+name+' \\t {0:3.3f}'.format(value))\n",
    "print('\\n  Total = \\t {0:3.3f}'.format(P_tot))"
   ]
  },
  {
   "cell_type": "code",
   "execution_count": 39,
   "metadata": {},
   "outputs": [
    {
     "name": "stdout",
     "output_type": "stream",
     "text": [
      "Atmospheric power on detector\n",
      "0.184\n",
      "0.488\n",
      "1.024\n",
      "1.183\n",
      "2.66\n",
      "4.889\n"
     ]
    }
   ],
   "source": [
    "tube_vec = ['LF','MF','UHF']\n",
    "ch_vec = ['_1','_2']\n",
    "\n",
    "print('Atmospheric power on detector')\n",
    "for tube in tube_vec:\n",
    "    for ch in ch_vec:\n",
    "        chname = tube+ch\n",
    "        value = unpack.pwr_outputs['Tophat_bands']['SAT'][tube]['Summary'][chname]['ATM']['Power to Detector'][0]\n",
    "        #print(chname+'\\t {0:3.3f} pW'.format(value))\n",
    "        print(value)"
   ]
  },
  {
   "cell_type": "code",
   "execution_count": 40,
   "metadata": {},
   "outputs": [
    {
     "name": "stdout",
     "output_type": "stream",
     "text": [
      "Total power on detector\n",
      "LF_1  Total = \t 0.540\n",
      "LF_2  Total = \t 0.950\n",
      "MF_1  Total = \t 2.013\n",
      "MF_2  Total = \t 2.635\n",
      "UHF_1  Total = \t 4.649\n",
      "UHF_2  Total = \t 7.330\n"
     ]
    }
   ],
   "source": [
    "tube_vec = ['LF','MF','UHF']\n",
    "ch_vec = ['_1','_2']\n",
    "\n",
    "print('Total power on detector')\n",
    "for tube in tube_vec:\n",
    "    for ch in ch_vec:\n",
    "        chname = tube+ch\n",
    "        P_tot = 0\n",
    "        for element in unpack.pwr_outputs['Tophat_bands']['SAT'][tube]['Summary'][chname].keys():\n",
    "            P = unpack.pwr_outputs['Tophat_bands']['SAT'][tube]['Summary'][chname][element]['Power to Detector'][0]\n",
    "            P_tot = P_tot + P\n",
    "        print(chname+'  Total = \\t {0:3.3f}'.format(P_tot))"
   ]
  },
  {
   "cell_type": "code",
   "execution_count": 41,
   "metadata": {},
   "outputs": [
    {
     "name": "stdout",
     "output_type": "stream",
     "text": [
      "Element optical efficiency\n",
      "Detector\n",
      "0.4\n",
      "0.4\n",
      "0.4\n",
      "0.401\n",
      "0.4\n",
      "0.4\n"
     ]
    }
   ],
   "source": [
    "tube_vec = ['LF','MF','UHF']\n",
    "ch_vec = ['_1','_2']\n",
    "\n",
    "print('Element optical efficiency')\n",
    "element = 'Detector'\n",
    "print(element)\n",
    "for tube in tube_vec:\n",
    "    for ch in ch_vec:\n",
    "        chname = tube+ch\n",
    "        value = unpack.pwr_outputs['Tophat_bands']['SAT'][tube]['Summary'][chname][element]['Efficiency'][0]\n",
    "        print(value) \n"
   ]
  },
  {
   "cell_type": "code",
   "execution_count": null,
   "metadata": {},
   "outputs": [],
   "source": []
  }
 ],
 "metadata": {
  "kernelspec": {
   "display_name": "Python 3",
   "language": "python",
   "name": "python3"
  },
  "language_info": {
   "codemirror_mode": {
    "name": "ipython",
    "version": 3
   },
   "file_extension": ".py",
   "mimetype": "text/x-python",
   "name": "python",
   "nbconvert_exporter": "python",
   "pygments_lexer": "ipython3",
   "version": "3.8.3"
  }
 },
 "nbformat": 4,
 "nbformat_minor": 4
}
